{
 "cells": [
  {
   "cell_type": "markdown",
   "id": "2c198f1c",
   "metadata": {},
   "source": [
    "# **SQLAlchemy from Medium Blog**\n",
    "\n",
    "[A Beginner’s Guide to SQLAlchemy: Getting Started with Python’s Powerful ORM](https://medium.com/@maskarapriyanshu/a-beginners-guide-to-sqlalchemy-getting-started-with-python-s-powerful-orm-ab8428f7074b)"
   ]
  },
  {
   "cell_type": "code",
   "execution_count": 1,
   "id": "92114f1f",
   "metadata": {},
   "outputs": [],
   "source": [
    "from dotenv import load_dotenv\n",
    "load_dotenv()\n",
    "import warnings\n",
    "warnings.filterwarnings(\"ignore\")"
   ]
  },
  {
   "cell_type": "code",
   "execution_count": 2,
   "id": "6bc28151",
   "metadata": {},
   "outputs": [],
   "source": [
    "import os\n",
    "from sqlalchemy import create_engine\n",
    "\n",
    "# Read DB URL from environment variable\n",
    "db_url = os.getenv(\"PG_DATABASE_URL\")\n",
    "\n",
    "# Create engine\n",
    "engine = create_engine(db_url)\n"
   ]
  },
  {
   "cell_type": "markdown",
   "id": "8f5de1fd",
   "metadata": {},
   "source": [
    "## **Defining Database Models**\n",
    "```bash\n",
    "In SQLAlchemy, database tables are represented as Python classes, and each instance of a class represents a row in the corresponding table. Let’s define a simple User model to represent a user table:\n",
    "```"
   ]
  },
  {
   "cell_type": "code",
   "execution_count": 3,
   "id": "c6f77179",
   "metadata": {},
   "outputs": [],
   "source": [
    "from sqlalchemy import Column, Integer, String, ForeignKey, Float\n",
    "from sqlalchemy.ext.declarative import declarative_base\n",
    "from sqlalchemy.orm import relationship\n",
    "\n",
    "Base = declarative_base()\n",
    "\n",
    "class User(Base):\n",
    "  __tablename__ = 'users'\n",
    "  id = Column(Integer, primary_key=True)\n",
    "  username = Column(String)\n",
    "  age = Column(Integer)\n",
    "  balance = Column(Float)"
   ]
  },
  {
   "cell_type": "code",
   "execution_count": 4,
   "id": "52f42798",
   "metadata": {},
   "outputs": [],
   "source": [
    "# Define the Address model\n",
    "class Address(Base):\n",
    "  __tablename__ = 'addresses'\n",
    "  id = Column(Integer, primary_key=True)\n",
    "  user_id = Column(Integer, ForeignKey('users.id'))\n",
    "  email = Column(String)\n",
    "  user = relationship(\"User\", backref=\"addresses\")"
   ]
  },
  {
   "cell_type": "code",
   "execution_count": 5,
   "id": "30e7627b",
   "metadata": {},
   "outputs": [],
   "source": [
    "## Create the table.\n",
    "\n",
    "Base.metadata.create_all(engine)"
   ]
  },
  {
   "cell_type": "markdown",
   "id": "3ac38948",
   "metadata": {},
   "source": [
    "## **Creating a Session**\n",
    "```lua\n",
    "To interact with the database, we need to create a session. The session manages the connection to the database and provides a way to execute queries and perform database operations. Here’s how you can create a session:\n",
    "```"
   ]
  },
  {
   "cell_type": "code",
   "execution_count": 6,
   "id": "6c526ba6",
   "metadata": {},
   "outputs": [],
   "source": [
    "from sqlalchemy.orm import sessionmaker\n",
    "\n",
    "Session = sessionmaker(bind=engine)\n",
    "session = Session()"
   ]
  },
  {
   "cell_type": "markdown",
   "id": "0a355765",
   "metadata": {},
   "source": [
    "## **Inserting The data**"
   ]
  },
  {
   "cell_type": "code",
   "execution_count": 7,
   "id": "b5bc1fad",
   "metadata": {},
   "outputs": [],
   "source": [
    "new_user = User(username=\"Md Al Amin\", age=25, balance=70.43)\n",
    "session.add(new_user)\n",
    "session.commit()"
   ]
  },
  {
   "cell_type": "markdown",
   "id": "778e2e61",
   "metadata": {},
   "source": [
    "## **Do query into to database**"
   ]
  },
  {
   "cell_type": "code",
   "execution_count": 8,
   "id": "085ed08e",
   "metadata": {},
   "outputs": [
    {
     "data": {
      "text/plain": [
       "[<__main__.User at 0x1a274c63ce0>, <__main__.User at 0x1a274c33320>]"
      ]
     },
     "execution_count": 8,
     "metadata": {},
     "output_type": "execute_result"
    }
   ],
   "source": [
    "all_users = session.query(User).all()\n",
    "\n",
    "specific_users = session.query(User).filter(User.username == 'Md Al Amin').all()\n",
    "specific_users\n"
   ]
  },
  {
   "cell_type": "code",
   "execution_count": 9,
   "id": "bfde6811",
   "metadata": {},
   "outputs": [
    {
     "name": "stdout",
     "output_type": "stream",
     "text": [
      "Md Al Amin 25 70.43\n",
      "Md Al Amin 25 70.43\n"
     ]
    }
   ],
   "source": [
    "for user in all_users:\n",
    "    print(user.username, user.age, user.balance)"
   ]
  },
  {
   "cell_type": "markdown",
   "id": "a45ff83e",
   "metadata": {},
   "source": [
    "## **Update Data**\n",
    "\n",
    "```lua\n",
    "To update existing data in the database, we first query the data we want to update, modify it, and then commit the changes. Here’s an example of updating a user’s email address:\n",
    "```"
   ]
  },
  {
   "cell_type": "code",
   "execution_count": 13,
   "id": "d7ebe0d7",
   "metadata": {},
   "outputs": [],
   "source": [
    "# Query the user to update\n",
    "user_to_update = session.query(User).filter(User.id == 2).first()\n",
    "\n",
    "# Update the user's email address\n",
    "user_to_update.username = \"Aminul Islam\"\n",
    "\n",
    "# Commit the transaction\n",
    "session.commit()"
   ]
  },
  {
   "cell_type": "code",
   "execution_count": 14,
   "id": "704d1eee",
   "metadata": {},
   "outputs": [
    {
     "name": "stdout",
     "output_type": "stream",
     "text": [
      "Md Al Amin 25 70.43\n",
      "Aminul Islam 25 70.43\n"
     ]
    }
   ],
   "source": [
    "all_users = session.query(User).all()\n",
    "\n",
    "for user in all_users:\n",
    "    print(user.username, user.age, user.balance)"
   ]
  },
  {
   "cell_type": "markdown",
   "id": "89a590c7",
   "metadata": {},
   "source": [
    "## **Delete Data**"
   ]
  },
  {
   "cell_type": "code",
   "execution_count": 15,
   "id": "dbb61422",
   "metadata": {},
   "outputs": [
    {
     "name": "stdout",
     "output_type": "stream",
     "text": [
      "Md Al Amin 25 70.43\n"
     ]
    }
   ],
   "source": [
    "# Query the user to delete\n",
    "user_to_delete = session.query(User).filter(User.username == \"Aminul Islam\").first()\n",
    "\n",
    "# Delete the user\n",
    "session.delete(user_to_delete)\n",
    "\n",
    "# Commit the transaction\n",
    "session.commit()\n",
    "\n",
    "all_users = session.query(User).all()\n",
    "\n",
    "for user in all_users:\n",
    "    print(user.username, user.age, user.balance)"
   ]
  },
  {
   "cell_type": "markdown",
   "id": "9efad247",
   "metadata": {},
   "source": [
    "## **Aggregate Function**"
   ]
  },
  {
   "cell_type": "code",
   "execution_count": 16,
   "id": "81432b0f",
   "metadata": {},
   "outputs": [
    {
     "data": {
      "text/plain": [
       "(1, Decimal('25.0000000000000000'), 25)"
      ]
     },
     "execution_count": 16,
     "metadata": {},
     "output_type": "execute_result"
    }
   ],
   "source": [
    "from sqlalchemy import func\n",
    "\n",
    "# Count the number of users\n",
    "num_users = session.query(func.count(User.id)).scalar()\n",
    "\n",
    "# Calculate the average age of users\n",
    "average_age = session.query(func.avg(User.age)).scalar()\n",
    "\n",
    "# Find the maximum age of users\n",
    "max_age = session.query(func.max(User.age)).scalar()\n",
    "\n",
    "(num_users, average_age, max_age)"
   ]
  },
  {
   "cell_type": "code",
   "execution_count": null,
   "id": "791c6a8a",
   "metadata": {},
   "outputs": [],
   "source": []
  }
 ],
 "metadata": {
  "kernelspec": {
   "display_name": "myenv",
   "language": "python",
   "name": "python3"
  },
  "language_info": {
   "codemirror_mode": {
    "name": "ipython",
    "version": 3
   },
   "file_extension": ".py",
   "mimetype": "text/x-python",
   "name": "python",
   "nbconvert_exporter": "python",
   "pygments_lexer": "ipython3",
   "version": "3.12.3"
  }
 },
 "nbformat": 4,
 "nbformat_minor": 5
}
