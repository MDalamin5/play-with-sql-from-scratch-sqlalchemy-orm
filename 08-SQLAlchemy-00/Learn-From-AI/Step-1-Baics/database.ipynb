{
 "cells": [
  {
   "cell_type": "markdown",
   "id": "899220e4",
   "metadata": {},
   "source": [
    "# **✅ Step 1: SQLAlchemy Setup & Basics**\n",
    "## **🎯 What You'll Learn:**\n",
    "- What SQLAlchemy is and how it works\n",
    "\n",
    "- How to connect to your PostgreSQL database (pychemy)\n",
    "\n",
    "- How to define tables (models)\n",
    "\n",
    "- How to create the tables in the database\n",
    "\n",
    "- How to insert your first record"
   ]
  },
  {
   "cell_type": "code",
   "execution_count": 1,
   "id": "d1f7ccbf",
   "metadata": {},
   "outputs": [],
   "source": [
    "from dotenv import load_dotenv\n",
    "load_dotenv()\n",
    "import os\n",
    "DATABASE_URL = os.getenv(\"PG_DATABASE_URL\")"
   ]
  },
  {
   "cell_type": "code",
   "execution_count": 2,
   "id": "372e9211",
   "metadata": {},
   "outputs": [],
   "source": [
    "from sqlalchemy import create_engine\n",
    "from sqlalchemy.orm import sessionmaker\n",
    "from sqlalchemy.ext.declarative import declarative_base\n",
    "\n",
    "engine = create_engine(DATABASE_URL)"
   ]
  },
  {
   "cell_type": "code",
   "execution_count": 3,
   "id": "e93d7bf0",
   "metadata": {},
   "outputs": [
    {
     "name": "stderr",
     "output_type": "stream",
     "text": [
      "C:\\Users\\Lenovo\\AppData\\Local\\Temp\\ipykernel_17248\\113363295.py:3: MovedIn20Warning: The ``declarative_base()`` function is now available as sqlalchemy.orm.declarative_base(). (deprecated since: 2.0) (Background on SQLAlchemy 2.0 at: https://sqlalche.me/e/b8d9)\n",
      "  Base = declarative_base()\n"
     ]
    }
   ],
   "source": [
    "SessionLocal = sessionmaker(autocommit=False, autoflush=False, bind=engine)\n",
    "\n",
    "Base = declarative_base()"
   ]
  }
 ],
 "metadata": {
  "kernelspec": {
   "display_name": "myenv",
   "language": "python",
   "name": "python3"
  },
  "language_info": {
   "codemirror_mode": {
    "name": "ipython",
    "version": 3
   },
   "file_extension": ".py",
   "mimetype": "text/x-python",
   "name": "python",
   "nbconvert_exporter": "python",
   "pygments_lexer": "ipython3",
   "version": "3.12.3"
  }
 },
 "nbformat": 4,
 "nbformat_minor": 5
}
