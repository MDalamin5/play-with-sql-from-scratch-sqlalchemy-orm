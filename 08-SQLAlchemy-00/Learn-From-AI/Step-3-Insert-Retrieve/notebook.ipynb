{
 "cells": [
  {
   "cell_type": "markdown",
   "id": "26eb9cf6",
   "metadata": {},
   "source": [
    "## **Step 3 data insert and retrieve**"
   ]
  },
  {
   "cell_type": "markdown",
   "id": "4dcbf206",
   "metadata": {},
   "source": [
    "### Existing table of my database."
   ]
  },
  {
   "cell_type": "code",
   "execution_count": 1,
   "id": "6c167a91",
   "metadata": {},
   "outputs": [],
   "source": [
    "from sqlalchemy import Column, Integer, String, Float, ForeignKey\n",
    "from sqlalchemy.orm import relationship, declarative_base\n",
    "\n",
    "## base class for my models\n",
    "Base = declarative_base()\n",
    "\n",
    "\n",
    "class Users(Base):\n",
    "    __tablename__ = \"users\"\n",
    "    \n",
    "    id = Column(Integer, primary_key=True)\n",
    "    username = Column(String, nullable=False)\n",
    "    age = Column(Integer)\n",
    "    balance = Column(Float)\n",
    "    \n",
    "    def __repr__(self):\n",
    "        return f\"<User(id={self.id}, username='{self.username}', age={self.age}, balance={self.balance})>\" \n",
    "    \n",
    "    \n",
    "class Address(Base):\n",
    "    __tablename__ = 'addresses'\n",
    "\n",
    "    id = Column(Integer, primary_key=True)\n",
    "    user_id = Column(Integer, ForeignKey('users.id'))  # Foreign key to users table\n",
    "    email = Column(String, nullable=False)\n",
    "    \n",
    "    user = relationship(\"Users\", backref=\"addresses\")\n",
    "    \n",
    "    \n",
    "    def __repr__(self):\n",
    "        return f\"<Address(id={self.id}, email='{self.email}', user_id={self.user_id})>\""
   ]
  },
  {
   "cell_type": "markdown",
   "id": "be304c87",
   "metadata": {},
   "source": [
    "## **DB engine**"
   ]
  },
  {
   "cell_type": "code",
   "execution_count": 2,
   "id": "1794eb4e",
   "metadata": {},
   "outputs": [],
   "source": [
    "from sqlalchemy import create_engine\n",
    "import os\n",
    "from dotenv import load_dotenv\n",
    "load_dotenv()\n",
    "DB_URL = os.getenv(\"PG_DATABASE_URL\")\n",
    "\n",
    "# Connect to your local PostgreSQL database\n",
    "engine = create_engine(DB_URL)"
   ]
  },
  {
   "cell_type": "markdown",
   "id": "8e9ac777",
   "metadata": {},
   "source": [
    "## ***STAT***"
   ]
  },
  {
   "cell_type": "code",
   "execution_count": 3,
   "id": "ad067360",
   "metadata": {},
   "outputs": [],
   "source": [
    "from sqlalchemy.orm import joinedload, selectinload\n",
    "from sqlalchemy import func, text\n",
    "from sqlalchemy.exc import SQLAlchemyError\n",
    "import pandas as pd\n"
   ]
  },
  {
   "cell_type": "code",
   "execution_count": 4,
   "id": "b96f288c",
   "metadata": {},
   "outputs": [],
   "source": [
    "from sqlalchemy.orm import sessionmaker\n",
    "SessionLocal = sessionmaker(autocommit=False, autoflush=False, bind=engine)"
   ]
  },
  {
   "cell_type": "code",
   "execution_count": 5,
   "id": "86769616",
   "metadata": {},
   "outputs": [
    {
     "name": "stdout",
     "output_type": "stream",
     "text": [
      "Tables ensured (users, addresses).\n"
     ]
    }
   ],
   "source": [
    "# Cell 2 - Create missing tables (no-op if already created)\n",
    "Base.metadata.create_all(bind=engine)\n",
    "print(\"Tables ensured (users, addresses).\")\n"
   ]
  },
  {
   "cell_type": "markdown",
   "id": "7457711d",
   "metadata": {},
   "source": [
    "## **Insert the Data**"
   ]
  },
  {
   "cell_type": "code",
   "execution_count": 6,
   "id": "50ffce17",
   "metadata": {},
   "outputs": [],
   "source": [
    "session = SessionLocal()"
   ]
  },
  {
   "cell_type": "code",
   "execution_count": 7,
   "id": "07a429a0",
   "metadata": {},
   "outputs": [
    {
     "name": "stdout",
     "output_type": "stream",
     "text": [
      "Inserted users and addresses (and linked via relationships).\n"
     ]
    }
   ],
   "source": [
    "# Cell 3 - Insert users and addresses and link them via relationships\n",
    "users_to_add = [\n",
    "    Users(username=\"Al Amin\", age=28, balance=120.50),\n",
    "    Users(username=\"Aminul\", age=32, balance=75.00),\n",
    "    Users(username=\"Niloy\", age=22, balance=200.0),\n",
    "]\n",
    "\n",
    "addresses_to_add = [\n",
    "    Address(email=\"alamin@example.com\"),\n",
    "    Address(email=\"anubyk@gmail.com\"),\n",
    "    Address(email=\"hello_lie@company.com\"),\n",
    "]\n",
    "\n",
    "\n",
    "\n",
    "with session as db:\n",
    "    try:\n",
    "        # Add users first\n",
    "        db.add_all(users_to_add)\n",
    "        db.flush()  # assigns IDs to users in this transaction (but not committed yet)\n",
    "\n",
    "        # Link addresses to users using object references (no manual FK needed)\n",
    "        addresses_to_add[0].user = users_to_add[0]  # Alice\n",
    "        addresses_to_add[1].user = users_to_add[1]  # Bob\n",
    "        addresses_to_add[2].user = users_to_add[2]  # Charlie\n",
    "\n",
    "        db.add_all(addresses_to_add)\n",
    "        db.commit()\n",
    "        print(\"Inserted users and addresses (and linked via relationships).\")\n",
    "    except SQLAlchemyError as e:\n",
    "        db.rollback()\n",
    "        print(\"Error during insert:\", e)\n"
   ]
  },
  {
   "cell_type": "markdown",
   "id": "084d86ab",
   "metadata": {},
   "source": [
    "## **Read the data form db**"
   ]
  },
  {
   "cell_type": "code",
   "execution_count": null,
   "id": "e4cc5f6c",
   "metadata": {},
   "outputs": [
    {
     "data": {
      "text/html": [
       "<div>\n",
       "<style scoped>\n",
       "    .dataframe tbody tr th:only-of-type {\n",
       "        vertical-align: middle;\n",
       "    }\n",
       "\n",
       "    .dataframe tbody tr th {\n",
       "        vertical-align: top;\n",
       "    }\n",
       "\n",
       "    .dataframe thead th {\n",
       "        text-align: right;\n",
       "    }\n",
       "</style>\n",
       "<table border=\"1\" class=\"dataframe\">\n",
       "  <thead>\n",
       "    <tr style=\"text-align: right;\">\n",
       "      <th></th>\n",
       "      <th>id</th>\n",
       "      <th>username</th>\n",
       "      <th>age</th>\n",
       "      <th>balance</th>\n",
       "      <th>addresses</th>\n",
       "    </tr>\n",
       "  </thead>\n",
       "  <tbody>\n",
       "    <tr>\n",
       "      <th>0</th>\n",
       "      <td>1</td>\n",
       "      <td>Al Amin</td>\n",
       "      <td>28</td>\n",
       "      <td>120.5</td>\n",
       "      <td>[alamin@example.com]</td>\n",
       "    </tr>\n",
       "    <tr>\n",
       "      <th>1</th>\n",
       "      <td>2</td>\n",
       "      <td>Aminul</td>\n",
       "      <td>32</td>\n",
       "      <td>75.0</td>\n",
       "      <td>[anubyk@gmail.com]</td>\n",
       "    </tr>\n",
       "    <tr>\n",
       "      <th>2</th>\n",
       "      <td>3</td>\n",
       "      <td>Niloy</td>\n",
       "      <td>22</td>\n",
       "      <td>200.0</td>\n",
       "      <td>[hello_lie@company.com]</td>\n",
       "    </tr>\n",
       "  </tbody>\n",
       "</table>\n",
       "</div>"
      ],
      "text/plain": [
       "   id username  age  balance                addresses\n",
       "0   1  Al Amin   28    120.5     [alamin@example.com]\n",
       "1   2   Aminul   32     75.0       [anubyk@gmail.com]\n",
       "2   3    Niloy   22    200.0  [hello_lie@company.com]"
      ]
     },
     "metadata": {},
     "output_type": "display_data"
    }
   ],
   "source": [
    "with SessionLocal() as db:\n",
    "    all_users = db.query(Users).order_by(Users.id).all()\n",
    "    rows = []\n",
    "    for u in all_users:\n",
    "        rows.append(\n",
    "            {\n",
    "                \"id\": u.id,\n",
    "                \"username\": u.username,\n",
    "                \"age\": u.age,\n",
    "                \"balance\": u.balance,\n",
    "                \"email\": [a.email for a in u.addresses]\n",
    "                \n",
    "            }\n",
    "        )\n",
    "    \n",
    "    display(pd.DataFrame(rows))"
   ]
  },
  {
   "cell_type": "markdown",
   "id": "f8832fa8",
   "metadata": {},
   "source": [
    "### **The N+1 problem & eager-loading solutions (`selectinload` and `joinedload`)**"
   ]
  },
  {
   "cell_type": "code",
   "execution_count": 13,
   "id": "7b963ab2",
   "metadata": {},
   "outputs": [
    {
     "name": "stdout",
     "output_type": "stream",
     "text": [
      "Lazy load time: 0.004927499998302665\n",
      "selectinload time: 0.005574700000579469\n",
      "joinedload time: 0.009984399999666493\n",
      "Counts (example): [1, 1, 1]\n"
     ]
    }
   ],
   "source": [
    "# Cell 5 - Demonstration: eager loading to avoid N+1\n",
    "from time import perf_counter\n",
    "\n",
    "def measure_access(with_options=None):\n",
    "    with SessionLocal() as db:\n",
    "        start = perf_counter()\n",
    "        q = db.query(Users)\n",
    "        if with_options:\n",
    "            q = q.options(with_options)\n",
    "        users = q.limit(10).all()\n",
    "        # Access related addresses (would otherwise issue separate queries per user)\n",
    "        totals = []\n",
    "        for u in users:\n",
    "            totals.append(len(u.addresses))\n",
    "        end = perf_counter()\n",
    "        return end - start, totals\n",
    "\n",
    "t1, totals1 = measure_access(None)  # lazy load -> likely many queries\n",
    "t2, totals2 = measure_access(selectinload(Users.addresses))  # uses IN + one query for addresses\n",
    "t3, totals3 = measure_access(joinedload(Users.addresses))  # uses a JOIN (one query)\n",
    "\n",
    "print(\"Lazy load time:\", t1)\n",
    "print(\"selectinload time:\", t2)\n",
    "print(\"joinedload time:\", t3)\n",
    "print(\"Counts (example):\", totals2[:5])\n"
   ]
  },
  {
   "cell_type": "markdown",
   "id": "5b1eb715",
   "metadata": {},
   "source": [
    "## **Query across relationships with .`join()` and `.outerjoin()`**"
   ]
  },
  {
   "cell_type": "code",
   "execution_count": 14,
   "id": "a2ea8ebb",
   "metadata": {},
   "outputs": [
    {
     "name": "stdout",
     "output_type": "stream",
     "text": [
      "Gmail users: [<User(id=2, username='Aminul', age=32, balance=75.0)>]\n",
      "Users without addresses: []\n"
     ]
    }
   ],
   "source": [
    "# Cell 6 - Join filters\n",
    "with SessionLocal() as db:\n",
    "    # Users who have a @gmail.com address\n",
    "    gmail_users = db.query(Users).join(Users.addresses).filter(Address.email.ilike('%@gmail.com')).all()\n",
    "    print(\"Gmail users:\", gmail_users)\n",
    "\n",
    "    # Users without any addresses (LEFT OUTER JOIN + filter Address.id is NULL)\n",
    "    users_no_addr = db.query(Users).outerjoin(Address).filter(Address.id == None).all()\n",
    "    print(\"Users without addresses:\", users_no_addr)\n"
   ]
  },
  {
   "cell_type": "code",
   "execution_count": 15,
   "id": "35ed8a1e",
   "metadata": {},
   "outputs": [
    {
     "data": {
      "text/html": [
       "<div>\n",
       "<style scoped>\n",
       "    .dataframe tbody tr th:only-of-type {\n",
       "        vertical-align: middle;\n",
       "    }\n",
       "\n",
       "    .dataframe tbody tr th {\n",
       "        vertical-align: top;\n",
       "    }\n",
       "\n",
       "    .dataframe thead th {\n",
       "        text-align: right;\n",
       "    }\n",
       "</style>\n",
       "<table border=\"1\" class=\"dataframe\">\n",
       "  <thead>\n",
       "    <tr style=\"text-align: right;\">\n",
       "      <th></th>\n",
       "      <th>id</th>\n",
       "      <th>username</th>\n",
       "      <th>addr_count</th>\n",
       "    </tr>\n",
       "  </thead>\n",
       "  <tbody>\n",
       "    <tr>\n",
       "      <th>0</th>\n",
       "      <td>2</td>\n",
       "      <td>Aminul</td>\n",
       "      <td>1</td>\n",
       "    </tr>\n",
       "    <tr>\n",
       "      <th>1</th>\n",
       "      <td>3</td>\n",
       "      <td>Niloy</td>\n",
       "      <td>1</td>\n",
       "    </tr>\n",
       "    <tr>\n",
       "      <th>2</th>\n",
       "      <td>1</td>\n",
       "      <td>Al Amin</td>\n",
       "      <td>1</td>\n",
       "    </tr>\n",
       "  </tbody>\n",
       "</table>\n",
       "</div>"
      ],
      "text/plain": [
       "   id username  addr_count\n",
       "0   2   Aminul           1\n",
       "1   3    Niloy           1\n",
       "2   1  Al Amin           1"
      ]
     },
     "metadata": {},
     "output_type": "display_data"
    }
   ],
   "source": [
    "# Cell 7 - Aggregation: address counts per user (including users with 0)\n",
    "with SessionLocal() as db:\n",
    "    results = (\n",
    "        db.query(\n",
    "            Users.id,\n",
    "            Users.username,\n",
    "            func.count(Address.id).label(\"addr_count\")\n",
    "        )\n",
    "        .outerjoin(Address)\n",
    "        .group_by(Users.id)\n",
    "        .order_by(func.count(Address.id).desc())\n",
    "        .all()\n",
    "    )\n",
    "    df = pd.DataFrame(results, columns=[\"id\", \"username\", \"addr_count\"])\n",
    "    display(df)\n"
   ]
  }
 ],
 "metadata": {
  "kernelspec": {
   "display_name": "myenv",
   "language": "python",
   "name": "python3"
  },
  "language_info": {
   "codemirror_mode": {
    "name": "ipython",
    "version": 3
   },
   "file_extension": ".py",
   "mimetype": "text/x-python",
   "name": "python",
   "nbconvert_exporter": "python",
   "pygments_lexer": "ipython3",
   "version": "3.12.3"
  }
 },
 "nbformat": 4,
 "nbformat_minor": 5
}
