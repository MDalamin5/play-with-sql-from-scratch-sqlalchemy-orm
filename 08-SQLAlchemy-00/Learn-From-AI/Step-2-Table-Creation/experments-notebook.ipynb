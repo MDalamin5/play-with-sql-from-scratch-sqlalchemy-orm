{
 "cells": [
  {
   "cell_type": "markdown",
   "id": "2c63f5b5",
   "metadata": {},
   "source": [
    "## 🧠 **Step 2: Defining Tables with ORM Classes**"
   ]
  },
  {
   "cell_type": "code",
   "execution_count": 1,
   "id": "e9b19a7e",
   "metadata": {},
   "outputs": [],
   "source": [
    "from sqlalchemy import Column, Integer, String, Float, ForeignKey\n",
    "from sqlalchemy.orm import relationship, declarative_base\n",
    "\n",
    "## base class for my models\n",
    "Base = declarative_base()"
   ]
  },
  {
   "cell_type": "markdown",
   "id": "66a6343d",
   "metadata": {},
   "source": [
    "## **Create the table**"
   ]
  },
  {
   "cell_type": "code",
   "execution_count": 2,
   "id": "0955b834",
   "metadata": {},
   "outputs": [],
   "source": [
    "class Users(Base):\n",
    "    __tablename__ = \"users\"\n",
    "    \n",
    "    id = Column(Integer, primary_key=True)\n",
    "    username = Column(String, nullable=False)\n",
    "    age = Column(Integer)\n",
    "    balance = Column(Float)\n",
    "    \n",
    "    def __repr__(self):\n",
    "        return f\"<User(id={self.id}, username='{self.username}', age={self.age}, balance={self.balance})>\" \n",
    "    "
   ]
  },
  {
   "cell_type": "code",
   "execution_count": 3,
   "id": "f2241318",
   "metadata": {},
   "outputs": [],
   "source": [
    "class Address(Base):\n",
    "    __tablename__ = 'addresses'\n",
    "\n",
    "    id = Column(Integer, primary_key=True)\n",
    "    user_id = Column(Integer, ForeignKey('users.id'))  # Foreign key to users table\n",
    "    email = Column(String, nullable=False)\n",
    "    \n",
    "    user = relationship(\"User\", backref=\"addresses\")\n",
    "    \n",
    "    \n",
    "    def __repr__(self):\n",
    "        return f\"<Address(id={self.id}, email='{self.email}', user_id={self.user_id})>\""
   ]
  },
  {
   "cell_type": "markdown",
   "id": "f1b4648a",
   "metadata": {},
   "source": [
    "## **Generate the tables in my PostgreSQL db**"
   ]
  },
  {
   "cell_type": "code",
   "execution_count": 4,
   "id": "d450d407",
   "metadata": {},
   "outputs": [],
   "source": [
    "from sqlalchemy import create_engine\n",
    "import os\n",
    "from dotenv import load_dotenv\n",
    "load_dotenv\n",
    "DB_URL = os.getenv(\"PG_DATABASE_URL\")\n",
    "\n",
    "# Connect to your local PostgreSQL database\n",
    "engine = create_engine(DB_URL)\n",
    "\n",
    "# Create the tables (if not already created)\n",
    "Base.metadata.create_all(engine)\n"
   ]
  },
  {
   "cell_type": "code",
   "execution_count": null,
   "id": "1023b9a4",
   "metadata": {},
   "outputs": [],
   "source": []
  }
 ],
 "metadata": {
  "kernelspec": {
   "display_name": "myenv",
   "language": "python",
   "name": "python3"
  },
  "language_info": {
   "codemirror_mode": {
    "name": "ipython",
    "version": 3
   },
   "file_extension": ".py",
   "mimetype": "text/x-python",
   "name": "python",
   "nbconvert_exporter": "python",
   "pygments_lexer": "ipython3",
   "version": "3.12.3"
  }
 },
 "nbformat": 4,
 "nbformat_minor": 5
}
