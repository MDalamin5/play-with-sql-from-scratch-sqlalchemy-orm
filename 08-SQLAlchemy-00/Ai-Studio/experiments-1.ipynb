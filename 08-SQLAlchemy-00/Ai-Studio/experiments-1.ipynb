{
 "cells": [
  {
   "cell_type": "code",
   "execution_count": 1,
   "id": "b11bde3e",
   "metadata": {},
   "outputs": [],
   "source": [
    "from sqlalchemy.ext import *"
   ]
  },
  {
   "cell_type": "code",
   "execution_count": 2,
   "id": "e73975b5",
   "metadata": {},
   "outputs": [
    {
     "name": "stdout",
     "output_type": "stream",
     "text": [
      "test line\n"
     ]
    }
   ],
   "source": [
    "print(\"test line\")"
   ]
  },
  {
   "cell_type": "code",
   "execution_count": 4,
   "id": "87c3410a",
   "metadata": {},
   "outputs": [],
   "source": [
    "import os\n",
    "from dotenv import load_dotenv\n",
    "load_dotenv()\n",
    "\n",
    "DB_URL = os.getenv(\"PG_DATABASE_URL\")"
   ]
  },
  {
   "cell_type": "code",
   "execution_count": 5,
   "id": "f9fa52cd",
   "metadata": {},
   "outputs": [
    {
     "name": "stdout",
     "output_type": "stream",
     "text": [
      "Successfully mapped existing tables:  ['users', 'addresses']\n"
     ]
    }
   ],
   "source": [
    "# In a new cell in your notebook\n",
    "\n",
    "from sqlalchemy import create_engine\n",
    "from sqlalchemy.orm import sessionmaker\n",
    "from sqlalchemy.ext.automap import automap_base\n",
    "import os\n",
    "from dotenv import load_dotenv\n",
    "\n",
    "load_dotenv()\n",
    "DB_URL = os.getenv(\"PG_DATABASE_URL\")\n",
    "\n",
    "# Standard engine setup\n",
    "engine = create_engine(DB_URL)\n",
    "\n",
    "# 1. Create an Automap Base\n",
    "# This is a special Base class that can reflect the database schema.\n",
    "Base = automap_base()\n",
    "\n",
    "# 2. Reflect the tables\n",
    "# This is the key step. SQLAlchemy connects to the DB,\n",
    "# reads the schema of all tables, and prepares to create classes.\n",
    "Base.prepare(autoload_with=engine)\n",
    "\n",
    "# 3. Access the mapped classes\n",
    "# The classes are now available under Base.classes.<table_name>\n",
    "# Let's assign them to variables for easier use.\n",
    "Users = Base.classes.users\n",
    "Address = Base.classes.addresses\n",
    "\n",
    "# Setup the session, same as before\n",
    "SessionLocal = sessionmaker(autocommit=False, autoflush=False, bind=engine)\n",
    "\n",
    "print(\"Successfully mapped existing tables: \", Base.classes.keys())\n",
    "# This will print something like: dict_keys(['users', 'addresses'])"
   ]
  },
  {
   "cell_type": "markdown",
   "id": "f468f335",
   "metadata": {},
   "source": [
    "## **CRUD Operations**"
   ]
  },
  {
   "cell_type": "code",
   "execution_count": null,
   "id": "b9d456c6",
   "metadata": {},
   "outputs": [
    {
     "name": "stdout",
     "output_type": "stream",
     "text": [
      "\n",
      "--- READING DATA ---\n",
      "Found existing user: <sqlalchemy.ext.automap.users object at 0x000001C8EA373C20>\n",
      "\n",
      "--- UPDATING DATA ---\n",
      "Old balance: 120.5\n",
      "New balance after commit: 170.5\n",
      "\n",
      "--- CREATING DATA ---\n",
      "Created a new user with ID: 4\n",
      "\n",
      "--- DELETING DATA ---\n",
      "User 'squidward' has been deleted.\n"
     ]
    }
   ],
   "source": [
    "# Open a session\n",
    "db = SessionLocal()\n",
    "\n",
    "# --- READ ---\n",
    "print(\"\\n--- READING DATA ---\")\n",
    "# Let's find a user that already exists in the database\n",
    "# We'll assume a user with username 'Al Amin' is already there.\n",
    "from sqlalchemy import select\n",
    "\n",
    "stmt = select(Users).where(Users.username == 'Al Amin')\n",
    "user_to_update = db.scalars(stmt).first()\n",
    "\n",
    "if user_to_update:\n",
    "    print(f\"Found existing user: {user_to_update}\")\n",
    "    # SQLAlchemy's automap usually figures out relationships!\n",
    "    # Let's try to access the addresses.\n",
    "    if hasattr(user_to_update, 'address_collection'): # automap often names it `<table>_collection`\n",
    "         print(f\"Found addresses: {user_to_update.address_collection}\")\n",
    "\n",
    "else:\n",
    "    print(\"User 'Al Amin' not found in the existing database.\")\n",
    "\n",
    "# --- UPDATE ---\n",
    "print(\"\\n--- UPDATING DATA ---\")\n",
    "if user_to_update:\n",
    "    print(f\"Old balance: {user_to_update.balance}\")\n",
    "    user_to_update.balance += 50  # Give them a raise\n",
    "    db.commit() # The session tracks the change and sends an UPDATE statement\n",
    "    db.refresh(user_to_update)\n",
    "    print(f\"New balance after commit: {user_to_update.balance}\")\n",
    "else:\n",
    "    print(\"Cannot update a user that wasn't found.\")\n",
    "\n",
    "# --- CREATE ---\n",
    "print(\"\\n--- CREATING DATA ---\")\n",
    "# Let's add a new user that doesn't exist yet\n",
    "new_user = Users(username='squidward', age=45, balance=300)\n",
    "db.add(new_user)\n",
    "db.commit()\n",
    "print(f\"Created a new user with ID: {new_user.id}\")\n",
    "\n",
    "# --- DELETE ---\n",
    "print(\"\\n--- DELETING DATA ---\")\n",
    "# Now let's delete the user we just created\n",
    "user_to_delete = db.get(Users, new_user.id) # .get() is great for finding by primary key\n",
    "if user_to_delete:\n",
    "    db.delete(user_to_delete)\n",
    "    db.commit()\n",
    "    print(f\"User '{user_to_delete.username}' has been deleted.\")\n",
    "\n",
    "# Close the session when done\n",
    "db.close()"
   ]
  }
 ],
 "metadata": {
  "kernelspec": {
   "display_name": "myenv",
   "language": "python",
   "name": "python3"
  },
  "language_info": {
   "codemirror_mode": {
    "name": "ipython",
    "version": 3
   },
   "file_extension": ".py",
   "mimetype": "text/x-python",
   "name": "python",
   "nbconvert_exporter": "python",
   "pygments_lexer": "ipython3",
   "version": "3.12.3"
  }
 },
 "nbformat": 4,
 "nbformat_minor": 5
}
